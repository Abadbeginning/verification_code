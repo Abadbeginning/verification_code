{
 "cells": [
  {
   "cell_type": "markdown",
   "metadata": {},
   "source": [
    "# 使用企业公示网做例子\n",
    "\n",
    "获取gt和challenge两个参数"
   ]
  },
  {
   "cell_type": "code",
   "execution_count": 8,
   "metadata": {},
   "outputs": [],
   "source": [
    "import requests"
   ]
  },
  {
   "cell_type": "code",
   "execution_count": 9,
   "metadata": {},
   "outputs": [],
   "source": [
    "# 企业公示网做例子\n",
    "index_url = 'http://www.gsxt.gov.cn/index.html'\n",
    "index_header= {\n",
    "            'accept': \"text/html,application/xhtml+xml,application/xml;q=0.9,image/webp,image/apng,*/*;q=0.8,application/signed-exchange;v=b3\",\n",
    "            'accept-encoding': \"gzip, deflate\",\n",
    "            'accept-language': \"zh-CN,zh;q=0.9\",\n",
    "            'connection': \"keep-alive\",\n",
    "            'host': \"www.gsxt.gov.cn\",\n",
    "            'upgrade-insecure-requests': \"1\",\n",
    "            'Referer': 'http://www.gsxt.gov.cn/index.html',\n",
    "            \"User-Agent\": \"Mozilla/5.0 (X11; Linux x86_64) AppleWebKit/537.36 (KHTML, like Gecko) Chrome/78.0.3904.108 Safari/537.36\",\n",
    "        }"
   ]
  },
  {
   "cell_type": "code",
   "execution_count": 10,
   "metadata": {},
   "outputs": [],
   "source": [
    "# 代理手动配置，避免本地的IP被封了\n",
    "proxy = {\n",
    "#         \"https\": \"https://\" + \"60.188.9.176:3000\",\n",
    "        # \"http\": \"http://\" + \"60.167.135.237:8118\"\n",
    "}"
   ]
  },
  {
   "cell_type": "code",
   "execution_count": 11,
   "metadata": {},
   "outputs": [],
   "source": [
    "response = requests.get(index_url, headers=index_header, proxies=proxy)"
   ]
  },
  {
   "cell_type": "markdown",
   "metadata": {},
   "source": [
    "获取到第一段JS代码"
   ]
  },
  {
   "cell_type": "code",
   "execution_count": 12,
   "metadata": {
    "scrolled": true
   },
   "outputs": [
    {
     "data": {
      "text/plain": [
       "'<script>var x=\"innerHTML@@@catch@chars@@setTimeout@05@@g@captcha@search@@@https@0@@a@f@charCodeAt@try@new@fromCharCode@20@join@@@5@@@@rOm9XFMtA3QKV7nYsPGT4lifyWwkq5vcjH2IdxUoCbhERLaz81DNB6@document@DOMContentLoaded@as@Path@d@length@div@@for@__jsl_clearance@@@@JgSe0upZ@RegExp@while@@@location@GMT@@@@split@8@@window@36@1@parseInt@@@substr@1500@@href@Wed@@@addEventListener@cookie@attachEvent@@challenge@replace@@hantom@1592368409@charAt@pathname@@match@eval@@@toString@@return@Array@@onreadystatechange@Jun@@toLowerCase@@@@firstChild@29@0xEDB88320@__p@33@@function@17@@@0xFF@e@@@2@false@if@535@else@Expires@@createElement@var@@String@reverse@@@\".replace(/@*$/,\"\").split(\"@\"),y=\"a2 41=8a(){7(\\'43.58=43.6a+43.10.65(/[\\\\\\\\?|&]b-64/,\\\\\\\\\\'\\\\\\\\\\')\\',56);29.61=\\'36=68.99|14|\\'+(8a(){a2 27=[8a(41){76 71(\\'a4.1b(\\'+41+\\')\\')},8a(41){35(a2 27=14;27<41.32;27++){41[27]=52(41[27]).74(50)};76 41.21(\\'\\')}],41=[[[(-~~~{}+[~~\\'\\'])/[-~~~{}-~~~{}]]+((-~[]<<-~[])+[[]][14])],[((-~[]<<-~[])+[[]][14])+(-~~~{}-~~~{}-~(((+!-{})|-~~~{}-~~~{}))+[])],[([((+!-{})+[96]>>96)]*(((+!-{})+[96]>>96))+[]+[[]][14])+(~~!!4b[\\'87\\'+\\'67\\'+\\'2b\\']+[]+[])],[((-~[]<<-~[])+[[]][14])+[-~[-~{}-~[-~((-~(+!-{})<<-~~~{}))]]],((-~[]<<-~[])+[[]][14])+[(-~[]<<-~[])+(-~[]<<-~[])],(-~[]+[[]][14])+[-~[-~{}-~[-~((-~(+!-{})<<-~~~{}))]]]],[(-~~~{}-~~~{}-~(((+!-{})|-~~~{}-~~~{}))+[])+(-~~~{}-~~~{}-~(((+!-{})|-~~~{}-~~~{}))+[]),[-~[-~{}-~[-~((-~(+!-{})<<-~~~{}))]]]+[(-~[]<<-~[])+(-~[]<<-~[])]],[((-~[]<<-~[])+[[]][14])+(((+!-{})|-~~~{}-~~~{})+[])],[[(-~~~{}+[~~\\'\\'])/[-~~~{}-~~~{}]]+((-~[]<<-~[])+[[]][14]),[-~[-~{}-~[-~((-~(+!-{})<<-~~~{}))]]]+(-~[]+[[]][14])],[(-~[]+[[]][14])+[-~[-~{}-~[-~((-~(+!-{})<<-~~~{}))]]],(-~[]+[[]][14])+(((+!-{})|-~~~{}-~~~{})+[]),((-~[]<<-~[])+[[]][14])+[(-~[]<<-~[])+24]],[[(-~~~{}+[~~\\'\\'])/[-~~~{}-~~~{}]]+(-~~~{}-~~~{}-~(((+!-{})|-~~~{}-~~~{}))+[]),[-~[-~{}-~[-~((-~(+!-{})<<-~~~{}))]]]+[(-~~~{}+[~~\\'\\'])/[-~~~{}-~~~{}]]],[((-~[]<<-~[])+[[]][14])+[(-~[]<<-~[])+(-~[]<<-~[])],((-~[]<<-~[])+[[]][14])+(~~!!4b[\\'87\\'+\\'67\\'+\\'2b\\']+[]+[]),(-~[]+[[]][14])+[(-~[]<<-~[])+24],(((+!-{})|-~~~{}-~~~{})+[])+(-~[]+[[]][14]),((-~[]<<-~[])+[[]][14])+(-~~~{}-~~~{}-~(((+!-{})|-~~~{}-~~~{}))+[]),((-~[]<<-~[])+[[]][14])+[-~[-~{}-~[-~((-~(+!-{})<<-~~~{}))]]]],[[(-~~~{}+[~~\\'\\'])/[-~~~{}-~~~{}]]+[(-~[]<<-~[])+(-~[]<<-~[])],(-~~~{}-~~~{}-~(((+!-{})|-~~~{}-~~~{}))+[])+[(-~[]<<-~[])+24],(-~~~{}-~~~{}-~(((+!-{})|-~~~{}-~~~{}))+[])+[(-~[]<<-~[])+24]],[((-~[]<<-~[])+[[]][14])+(-~~~{}-~~~{}-~(((+!-{})|-~~~{}-~~~{}))+[]),(-~[]+[[]][14])+(-~~~{}-~~~{}-~(((+!-{})|-~~~{}-~~~{}))+[])],[(((+!-{})|-~~~{}-~~~{})+[])+[(-~[]<<-~[])+24],[(-~~~{}+[~~\\'\\'])/[-~~~{}-~~~{}]]+(-~[]+[[]][14]),(-~~~{}-~~~{}-~(((+!-{})|-~~~{}-~~~{}))+[])+[-~[-~{}-~[-~((-~(+!-{})<<-~~~{}))]]]]];35(a2 a8=14;a8<41.32;a8++){41[a8]=27.a5()[(-~[]+[[]][14])](41[a8])};76 41.21(\\'\\')})()+\\';9b=59, 8b-7a-20 8:88:85 44;30=/;\\'};98((8a(){19{76 !!4b.60;}4(93){76 97;}})()){29.60(\\'2a\\',41,97)}9a{29.62(\\'79\\',41)}\",f=function(x,y){var a=0,b=0,c=0;x=x.split(\"\");y=y||99;while((a=x.shift())&&(b=a.charCodeAt(0)-77.5))c=(Math.abs(b)<13?(b+48.5):parseInt(a,36))+y*c;return c},z=f(y.match(/\\\\w/g).sort(function(x,y){return f(x)-f(y)}).pop());while(z++)try{eval(y.replace(/\\\\b\\\\w+\\\\b/g, function(y){return x[f(y,z)-1]||(\"_\"+y)}));break}catch(_){}</script>\\x00\\x00\\x00\\x00\\x00\\x00\\x00\\x00\\x00\\x00\\x00\\x00\\x00\\x00\\x00\\x00\\x00\\x00\\x00\\x00\\x00\\x00\\x00\\x00\\x00\\x00\\x00\\x00\\x00\\x00\\x00\\x00\\x00\\x00\\x00\\x00\\x00\\x00\\x00\\x00\\x00\\x00\\x00\\x00\\x00\\x00\\x00\\x00\\x00\\x00\\x00\\x00\\x00\\x00\\x00\\x00\\x00\\x00\\x00\\x00\\x00\\x00\\x00\\x00\\x00\\x00\\x00\\x00\\x00\\x00\\x00\\x00\\x00\\x00\\x00\\x00\\x00\\x00\\x00\\x00\\x00\\x00\\x00\\x00\\x00\\x00\\x00\\x00\\x00\\x00\\x00\\x00\\x00\\x00\\x00\\x00\\x00\\x00\\x00\\x00\\x00\\x00\\x00\\x00\\x00\\x00\\x00\\x00\\x00\\x00\\x00\\x00\\x00\\x00\\x00\\x00\\x00\\x00\\x00\\x00\\x00\\x00\\x00\\x00\\x00\\x00\\x00\\x00\\x00\\x00\\x00\\x00\\x00\\x00\\x00\\x00\\x00\\x00\\x00\\x00\\x00\\x00\\x00\\x00\\x00\\x00\\x00\\x00\\x00\\x00\\x00\\x00\\x00\\x00\\x00\\x00\\x00\\x00\\x00\\x00\\x00\\x00\\x00\\x00\\x00\\x00\\x00\\x00\\x00\\x00\\x00\\x00\\x00\\x00\\x00\\x00\\x00\\x00\\x00\\x00\\x00\\x00\\x00\\x00\\x00\\x00\\x00\\x00\\x00\\x00\\x00\\x00\\x00\\x00\\x00\\x00\\x00\\x00\\x00\\x00\\x00\\x00\\x00\\x00\\x00\\x00\\x00\\x00\\x00\\x00\\x00\\x00\\x00\\x00\\x00\\x00\\x00\\x00\\x00\\x00\\x00\\x00\\x00\\x00\\x00\\x00\\x00\\x00\\x00\\x00\\x00\\x00\\x00\\x00\\x00\\x00\\x00\\x00\\x00\\x00\\x00\\x00\\x00\\x00\\x00\\x00\\x00\\x00\\x00\\x00\\x00\\x00\\x00\\x00\\x00\\x00\\x00\\x00\\x00\\x00\\x00\\x00\\x00\\x00\\x00\\x00\\x00\\x00\\x00\\x00\\x00\\x00\\x00\\x00\\x00\\x00\\x00\\x00\\x00\\x00\\x00\\x00\\x00\\x00\\x00\\x00\\x00\\x00\\x00\\x00\\x00\\x00\\x00\\x00\\x00\\x00\\x00\\x00\\x00\\x00\\x00\\x00\\x00\\x00\\x00\\x00\\x00\\x00\\x00\\x00\\x00\\x00\\x00\\x00\\x00\\x00\\x00\\x00\\x00\\x00\\x00\\x00\\x00\\x00\\x00\\x00\\x00\\x00\\x00\\x00\\x00\\x00\\x00\\x00\\x00\\x00\\x00\\x00\\x00\\x00\\x00\\x00\\x00\\x00\\x00\\x00\\x00\\x00\\x00\\x00\\x00\\x00\\x00\\x00\\x00\\x00\\x00\\x00\\x00\\x00\\x00\\x00\\x00\\x00\\x00\\x00\\x00\\x00\\x00\\x00\\x00\\x00\\x00\\x00\\x00\\x00\\x00\\x00\\x00\\x00\\x00\\x00\\x00\\x00\\x00\\x00\\x00\\x00\\x00\\x00\\x00\\x00\\x00\\x00\\x00\\x00\\x00\\x00\\x00\\x00\\x00\\x00\\x00\\x00\\x00\\x00\\x00\\x00\\x00\\x00\\x00\\x00\\x00\\x00\\x00\\x00\\x00\\x00\\x00\\x00\\x00\\x00\\x00\\x00\\x00\\x00\\x00\\x00\\x00\\x00\\x00\\x00\\x00\\x00\\x00\\x00\\x00\\x00\\x00\\x00\\x00\\x00\\x00\\x00\\x00\\x00\\x00\\x00\\x00\\x00\\x00\\x00\\x00\\x00\\x00\\x00\\x00\\x00\\x00\\x00\\x00\\x00\\x00\\x00\\x00\\x00\\x00\\x00\\x00\\x00\\x00\\x00\\x00\\x00\\x00\\x00\\x00\\x00\\x00\\x00\\x00\\x00\\x00\\x00\\x00\\x00\\x00\\x00\\x00\\x00\\x00\\x00\\x00\\x00\\x00\\x00\\x00\\x00\\x00\\x00\\x00\\x00\\x00\\x00\\x00\\x00\\x00\\x00\\x00\\x00\\x00\\x00\\x00\\x00\\x00\\x00\\x00\\x00\\x00\\x00\\x00\\x00\\x00\\x00\\x00\\x00\\x00\\x00\\x00\\x00\\x00\\x00\\x00\\x00\\x00\\x00\\x00\\x00\\x00\\x00\\x00\\x00\\x00\\x00\\x00\\x00\\x00\\x00\\x00\\x00\\x00\\x00\\x00\\x00\\x00\\x00\\x00\\x00\\x00\\x00\\x00\\x00\\x00\\x00\\x00\\x00\\x00\\x00\\x00\\x00\\x00\\x00\\x00\\x00\\x00\\x00\\x00\\x00\\x00\\x00\\x00\\x00\\x00\\x00\\x00\\x00\\x00\\x00\\x00\\x00\\x00\\x00\\x00\\x00\\x00\\x00\\x00\\x00\\x00\\x00\\x00\\x00\\x00\\x00\\x00\\x00\\x00\\x00\\x00\\x00\\x00\\x00\\x00\\x00\\x00\\x00\\x00\\x00\\x00\\x00\\x00\\x00\\x00\\x00\\x00\\x00\\x00\\x00\\x00\\x00\\x00\\x00\\x00\\x00\\x00\\x00\\x00\\x00\\x00\\x00\\x00\\x00\\x00\\x00\\x00\\x00\\x00\\x00\\x00\\x00\\x00\\x00\\x00\\x00\\x00\\x00\\x00\\x00\\x00\\x00\\x00\\x00\\x00\\x00\\x00\\x00\\x00\\x00\\x00\\x00\\x00\\x00\\x00\\x00\\x00\\x00\\x00\\x00\\x00\\x00\\x00\\x00\\x00\\x00\\x00\\x00\\x00\\x00\\x00\\x00\\x00\\x00\\x00\\x00\\x00\\x00\\x00\\x00\\x00\\x00\\x00\\x00\\x00\\x00\\x00\\x00\\x00\\x00\\x00\\x00\\x00\\x00\\x00\\x00\\x00\\x00\\x00\\x00\\x00\\x00\\x00\\x00\\x00\\x00\\x00\\x00\\x00\\x00\\x00\\x00\\x00\\x00\\x00\\x00\\x00\\x00\\x00\\x00\\x00\\x00\\x00\\x00\\x00\\x00\\x00\\x00\\x00\\x00\\x00\\x00\\x00\\x00\\x00\\x00\\x00\\x00\\x00\\x00\\x00\\x00\\x00\\x00\\x00\\x00\\x00\\x00\\x00\\x00\\x00\\x00\\x00\\x00\\x00\\x00\\x00\\x00\\x00\\x00\\x00\\x00\\x00\\x00\\x00\\x00\\x00\\x00\\x00\\x00\\x00\\x00\\x00\\x00\\x00\\x00\\x00\\x00\\x00\\x00\\x00\\x00\\x00\\x00\\x00\\x00\\x00\\x00\\x00\\x00\\x00\\x00\\x00\\x00\\x00\\x00\\x00\\x00\\x00\\x00\\x00\\x00\\x00\\x00\\x00\\x00\\x00\\x00\\x00\\x00\\x00\\x00\\x00\\x00\\x00\\x00\\x00\\x00\\x00\\x00\\x00\\x00\\x00\\x00\\x00\\x00\\x00\\x00\\x00\\x00\\x00\\x00\\x00\\x00\\x00\\x00\\x00\\x00\\x00\\x00\\x00\\x00\\x00\\n'"
      ]
     },
     "execution_count": 12,
     "metadata": {},
     "output_type": "execute_result"
    }
   ],
   "source": [
    "response.text    # 获取第一段js"
   ]
  },
  {
   "cell_type": "markdown",
   "metadata": {},
   "source": [
    "获取jsluid参数"
   ]
  },
  {
   "cell_type": "code",
   "execution_count": 13,
   "metadata": {},
   "outputs": [
    {
     "data": {
      "text/plain": [
       "'3ab993dba1f036189e360068386fd970'"
      ]
     },
     "execution_count": 13,
     "metadata": {},
     "output_type": "execute_result"
    }
   ],
   "source": [
    "jsluid = response.headers['Set-Cookie'].split('=')[1].split(';')[0]    \n",
    "jsluid"
   ]
  },
  {
   "cell_type": "markdown",
   "metadata": {},
   "source": [
    "解密出第二段js代码"
   ]
  },
  {
   "cell_type": "code",
   "execution_count": 14,
   "metadata": {},
   "outputs": [
    {
     "data": {
      "text/plain": [
       "\"var _41=function(){setTimeout('location.href=location.pathname+location.search.replace(/[\\\\\\\\?|&]captcha-challenge/,\\\\\\\\'\\\\\\\\')',1500);document.cookie='__jsl_clearance=1592368409.535|0|'+(function(){var _27=[function(_41){return eval('String.fromCharCode('+_41+')')},function(_41){for(var _27=0;_27<_41.length;_27++){_41[_27]=parseInt(_41[_27]).toString(36)};return _41.join('')}],_41=[[[(-~~~{}+[~~''])/[-~~~{}-~~~{}]]+((-~[]<<-~[])+[[]][0])],[((-~[]<<-~[])+[[]][0])+(-~~~{}-~~~{}-~(((+!-{})|-~~~{}-~~~{}))+[])],[([((+!-{})+[2]>>2)]*(((+!-{})+[2]>>2))+[]+[[]][0])+(~~!!window['__p'+'hantom'+'as']+[]+[])],[((-~[]<<-~[])+[[]][0])+[-~[-~{}-~[-~((-~(+!-{})<<-~~~{}))]]],((-~[]<<-~[])+[[]][0])+[(-~[]<<-~[])+(-~[]<<-~[])],(-~[]+[[]][0])+[-~[-~{}-~[-~((-~(+!-{})<<-~~~{}))]]]],[(-~~~{}-~~~{}-~(((+!-{})|-~~~{}-~~~{}))+[])+(-~~~{}-~~~{}-~(((+!-{})|-~~~{}-~~~{}))+[]),[-~[-~{}-~[-~((-~(+!-{})<<-~~~{}))]]]+[(-~[]<<-~[])+(-~[]<<-~[])]],[((-~[]<<-~[])+[[]][0])+(((+!-{})|-~~~{}-~~~{})+[])],[[(-~~~{}+[~~''])/[-~~~{}-~~~{}]]+((-~[]<<-~[])+[[]][0]),[-~[-~{}-~[-~((-~(+!-{})<<-~~~{}))]]]+(-~[]+[[]][0])],[(-~[]+[[]][0])+[-~[-~{}-~[-~((-~(+!-{})<<-~~~{}))]]],(-~[]+[[]][0])+(((+!-{})|-~~~{}-~~~{})+[]),((-~[]<<-~[])+[[]][0])+[(-~[]<<-~[])+5]],[[(-~~~{}+[~~''])/[-~~~{}-~~~{}]]+(-~~~{}-~~~{}-~(((+!-{})|-~~~{}-~~~{}))+[]),[-~[-~{}-~[-~((-~(+!-{})<<-~~~{}))]]]+[(-~~~{}+[~~''])/[-~~~{}-~~~{}]]],[((-~[]<<-~[])+[[]][0])+[(-~[]<<-~[])+(-~[]<<-~[])],((-~[]<<-~[])+[[]][0])+(~~!!window['__p'+'hantom'+'as']+[]+[]),(-~[]+[[]][0])+[(-~[]<<-~[])+5],(((+!-{})|-~~~{}-~~~{})+[])+(-~[]+[[]][0]),((-~[]<<-~[])+[[]][0])+(-~~~{}-~~~{}-~(((+!-{})|-~~~{}-~~~{}))+[]),((-~[]<<-~[])+[[]][0])+[-~[-~{}-~[-~((-~(+!-{})<<-~~~{}))]]]],[[(-~~~{}+[~~''])/[-~~~{}-~~~{}]]+[(-~[]<<-~[])+(-~[]<<-~[])],(-~~~{}-~~~{}-~(((+!-{})|-~~~{}-~~~{}))+[])+[(-~[]<<-~[])+5],(-~~~{}-~~~{}-~(((+!-{})|-~~~{}-~~~{}))+[])+[(-~[]<<-~[])+5]],[((-~[]<<-~[])+[[]][0])+(-~~~{}-~~~{}-~(((+!-{})|-~~~{}-~~~{}))+[]),(-~[]+[[]][0])+(-~~~{}-~~~{}-~(((+!-{})|-~~~{}-~~~{}))+[])],[(((+!-{})|-~~~{}-~~~{})+[])+[(-~[]<<-~[])+5],[(-~~~{}+[~~''])/[-~~~{}-~~~{}]]+(-~[]+[[]][0]),(-~~~{}-~~~{}-~(((+!-{})|-~~~{}-~~~{}))+[])+[-~[-~{}-~[-~((-~(+!-{})<<-~~~{}))]]]]];for(var _a8=0;_a8<_41.length;_a8++){_41[_a8]=_27.reverse()[(-~[]+[[]][0])](_41[_a8])};return _41.join('')})()+';Expires=Wed, 17-Jun-20 05:33:29 GMT;Path=/;'};if((function(){try{return !!window.addEventListener;}catch(e){return false;}})()){document.addEventListener('DOMContentLoaded',_41,false)}else{document.attachEvent('onreadystatechange',_41)}\""
      ]
     },
     "execution_count": 14,
     "metadata": {},
     "output_type": "execute_result"
    }
   ],
   "source": [
    "import re\n",
    "import execjs\n",
    "\n",
    "\n",
    "des_js = 'function get_z(x, y) {\\n    f = function (x, y) {\\n        var a = 0,\\n            b = 0,\\n            c = 0;\\n        x = x.split(\"\");\\n        y = y || 99;\\n        while ((a = x.shift()) && (b = a.charCodeAt(0) - 77.5)) c = (Math.abs(b) < 13 ? (b + 48.5) : parseInt(a, 36)) + y * c;\\n        return c\\n    };\\n    x = x.replace(/@*$/, \"\").split(\"@\");\\n    z = f(y.match(/\\\\w/g).sort(function (x, y) {\\n        return f(x) - f(y)\\n    }).pop());\\n    return [x, y, z]\\n\\n}\\n\\nfunction get_js(x, y, z) {\\n    f = function (x, y) {\\n        var a = 0,\\n            b = 0,\\n            c = 0;\\n        x = x.split(\"\");\\n        y = y || 99;\\n        while ((a = x.shift()) && (b = a.charCodeAt(0) - 77.5)) c = (Math.abs(b) < 13 ? (b + 48.5) : parseInt(a, 36)) + y * c;\\n        return c\\n    };\\n    x = eval(x);\\n    z = z + 1;\\n    p = y.replace(/\\\\b\\\\w+\\\\b/g,\\n        function (y) {\\n            return x[f(y, z) - 1] || (\"_\" + y)\\n        });\\n    return p\\n\\n}\\n\\n\\nfunction once_js(x, y) {\\n    f = function (x, y) {\\n        var a = 0,\\n            b = 0,\\n            c = 0;\\n        x = x.split(\"\");\\n        y = y || 99;\\n        while ((a = x.shift()) && (b = a.charCodeAt(0) - 77.5)) c = (Math.abs(b) < 13 ? (b + 48.5) : parseInt(a, 36)) + y * c;\\n        return c\\n    },\\n        x = x.replace(/@*$/, \"\").split(\"@\");\\n    z = f(y.match(/\\\\w/g).sort(function (x, y) {\\n        return f(x) - f(y)\\n    }).pop());\\n    while (z++) try {\\n        g = y.replace(/\\\\b\\\\w+\\\\b/g,\\n            function (y) {\\n                return x[f(y, z) - 1] || (\"_\" + y)\\n            });\\n        return g\\n    } catch (_) {\\n    }\\n}'\n",
    "des_js = execjs.compile(des_js)\n",
    "first_js = response.text\n",
    "x = re.findall('var x=\"(.*?)\"', first_js)[0]\n",
    "y = re.findall(',y=\"(.*?)\"', first_js)[0]\n",
    "second_js = des_js.call('once_js', x, y)\n",
    "second_js"
   ]
  },
  {
   "cell_type": "markdown",
   "metadata": {},
   "source": [
    "处理第二段js，去除document"
   ]
  },
  {
   "cell_type": "code",
   "execution_count": 15,
   "metadata": {},
   "outputs": [
    {
     "data": {
      "text/plain": [
       "\"cookie='__jsl_clearance=1592368409.535|0|'+(function(){var _27=[function(_41){return eval('String.fromCharCode('+_41+')')},function(_41){for(var _27=0;_27<_41.length;_27++){_41[_27]=parseInt(_41[_27]).toString(36)};return _41.join('')}],_41=[[[(-~~~{}+[~~''])/[-~~~{}-~~~{}]]+((-~[]<<-~[])+[[]][0])],[((-~[]<<-~[])+[[]][0])+(-~~~{}-~~~{}-~(((+!-{})|-~~~{}-~~~{}))+[])],[([((+!-{})+[2]>>2)]*(((+!-{})+[2]>>2))+[]+[[]][0])+(~~!!window['__p'+'hantom'+'as']+[]+[])],[((-~[]<<-~[])+[[]][0])+[-~[-~{}-~[-~((-~(+!-{})<<-~~~{}))]]],((-~[]<<-~[])+[[]][0])+[(-~[]<<-~[])+(-~[]<<-~[])],(-~[]+[[]][0])+[-~[-~{}-~[-~((-~(+!-{})<<-~~~{}))]]]],[(-~~~{}-~~~{}-~(((+!-{})|-~~~{}-~~~{}))+[])+(-~~~{}-~~~{}-~(((+!-{})|-~~~{}-~~~{}))+[]),[-~[-~{}-~[-~((-~(+!-{})<<-~~~{}))]]]+[(-~[]<<-~[])+(-~[]<<-~[])]],[((-~[]<<-~[])+[[]][0])+(((+!-{})|-~~~{}-~~~{})+[])],[[(-~~~{}+[~~''])/[-~~~{}-~~~{}]]+((-~[]<<-~[])+[[]][0]),[-~[-~{}-~[-~((-~(+!-{})<<-~~~{}))]]]+(-~[]+[[]][0])],[(-~[]+[[]][0])+[-~[-~{}-~[-~((-~(+!-{})<<-~~~{}))]]],(-~[]+[[]][0])+(((+!-{})|-~~~{}-~~~{})+[]),((-~[]<<-~[])+[[]][0])+[(-~[]<<-~[])+5]],[[(-~~~{}+[~~''])/[-~~~{}-~~~{}]]+(-~~~{}-~~~{}-~(((+!-{})|-~~~{}-~~~{}))+[]),[-~[-~{}-~[-~((-~(+!-{})<<-~~~{}))]]]+[(-~~~{}+[~~''])/[-~~~{}-~~~{}]]],[((-~[]<<-~[])+[[]][0])+[(-~[]<<-~[])+(-~[]<<-~[])],((-~[]<<-~[])+[[]][0])+(~~!!window['__p'+'hantom'+'as']+[]+[]),(-~[]+[[]][0])+[(-~[]<<-~[])+5],(((+!-{})|-~~~{}-~~~{})+[])+(-~[]+[[]][0]),((-~[]<<-~[])+[[]][0])+(-~~~{}-~~~{}-~(((+!-{})|-~~~{}-~~~{}))+[]),((-~[]<<-~[])+[[]][0])+[-~[-~{}-~[-~((-~(+!-{})<<-~~~{}))]]]],[[(-~~~{}+[~~''])/[-~~~{}-~~~{}]]+[(-~[]<<-~[])+(-~[]<<-~[])],(-~~~{}-~~~{}-~(((+!-{})|-~~~{}-~~~{}))+[])+[(-~[]<<-~[])+5],(-~~~{}-~~~{}-~(((+!-{})|-~~~{}-~~~{}))+[])+[(-~[]<<-~[])+5]],[((-~[]<<-~[])+[[]][0])+(-~~~{}-~~~{}-~(((+!-{})|-~~~{}-~~~{}))+[]),(-~[]+[[]][0])+(-~~~{}-~~~{}-~(((+!-{})|-~~~{}-~~~{}))+[])],[(((+!-{})|-~~~{}-~~~{})+[])+[(-~[]<<-~[])+5],[(-~~~{}+[~~''])/[-~~~{}-~~~{}]]+(-~[]+[[]][0]),(-~~~{}-~~~{}-~(((+!-{})|-~~~{}-~~~{}))+[])+[-~[-~{}-~[-~((-~(+!-{})<<-~~~{}))]]]]];for(var _a8=0;_a8<_41.length;_a8++){_41[_a8]=_27.reverse()[(-~[]+[[]][0])](_41[_a8])};return _41.join('')})()+';Expires=Wed, 17-Jun-20 05:33:29 '\""
      ]
     },
     "execution_count": 15,
     "metadata": {},
     "output_type": "execute_result"
    }
   ],
   "source": [
    "new_js = second_js.replace('\\\\\\\\', '\\\\')\n",
    "\n",
    "new_js = 'cookie' + new_js.split('document.cookie')[1]\n",
    "new_js = new_js.split('GMT;Path=/;')[0] + \"'\"\n",
    "\n",
    "if re.findall(\"(var .{0,5}=)document\\.createElement\\('div'\\);\", new_js):\n",
    "        _3d = re.findall(\"(var .{0,5}=)document\\.createElement\\('div'\\);\", new_js)\n",
    "        _2b = re.findall(\"(var .{0,5}=).{0,5}\\.match\\(/https\\?:\\\\\\/\\\\\\//\\)\\[0\\];\", new_js)\n",
    "        new_js = re.sub(\n",
    "            \"var .{0,5}=document\\.createElement\\('div'\\);\", \n",
    "            _3d[0] + f'\"{index_url.replace(\"http://\", \"\")}\";',\n",
    "            new_js\n",
    "        )\n",
    "        new_js = re.sub(\"_.{0,5}\\.innerHTML='<a href=.{0,25}</a>';\", \"\", new_js)\n",
    "        new_js = re.sub(\"_.{0,5}=.{0,5}\\.firstChild\\.href;\", \"\", new_js)\n",
    "        new_js = re.sub(\"var .{0,5}=.{0,5}\\.match\\(/https\\?:\\\\\\/\\\\\\//\\)\\[0\\];\", _2b[0] + '\"http://\";', new_js)\n",
    "        new_js = re.sub(\"_.{0,5}=.{0,5}\\.substr\\(.{0,5}\\.length\\)\\.toLowerCase\\(\\);\", \"\", new_js)\n",
    "new_js"
   ]
  },
  {
   "cell_type": "markdown",
   "metadata": {},
   "source": [
    "处理js，去除Window"
   ]
  },
  {
   "cell_type": "code",
   "execution_count": 16,
   "metadata": {},
   "outputs": [],
   "source": [
    "find = re.findall(\"!*window\\[.*?\\]\", new_js)\n",
    "if find:\n",
    "    for f in find:\n",
    "        if '!' in f:\n",
    "            if len(re.findall('!', f)) % 2 == 0:\n",
    "                new_js = new_js.replace(f, 'false')\n",
    "            else:\n",
    "                new_js = new_js.replace(f, 'true')\n",
    "        else:\n",
    "            new_js = new_js.replace(f, 'undefined')\n",
    "new_js = new_js.replace('window.headless', 'undefined')"
   ]
  },
  {
   "cell_type": "code",
   "execution_count": 17,
   "metadata": {},
   "outputs": [
    {
     "data": {
      "text/plain": [
       "\"cookie='__jsl_clearance=1592368409.535|0|'+(function(){var _27=[function(_41){return eval('String.fromCharCode('+_41+')')},function(_41){for(var _27=0;_27<_41.length;_27++){_41[_27]=parseInt(_41[_27]).toString(36)};return _41.join('')}],_41=[[[(-~~~{}+[~~''])/[-~~~{}-~~~{}]]+((-~[]<<-~[])+[[]][0])],[((-~[]<<-~[])+[[]][0])+(-~~~{}-~~~{}-~(((+!-{})|-~~~{}-~~~{}))+[])],[([((+!-{})+[2]>>2)]*(((+!-{})+[2]>>2))+[]+[[]][0])+(~~false+[]+[])],[((-~[]<<-~[])+[[]][0])+[-~[-~{}-~[-~((-~(+!-{})<<-~~~{}))]]],((-~[]<<-~[])+[[]][0])+[(-~[]<<-~[])+(-~[]<<-~[])],(-~[]+[[]][0])+[-~[-~{}-~[-~((-~(+!-{})<<-~~~{}))]]]],[(-~~~{}-~~~{}-~(((+!-{})|-~~~{}-~~~{}))+[])+(-~~~{}-~~~{}-~(((+!-{})|-~~~{}-~~~{}))+[]),[-~[-~{}-~[-~((-~(+!-{})<<-~~~{}))]]]+[(-~[]<<-~[])+(-~[]<<-~[])]],[((-~[]<<-~[])+[[]][0])+(((+!-{})|-~~~{}-~~~{})+[])],[[(-~~~{}+[~~''])/[-~~~{}-~~~{}]]+((-~[]<<-~[])+[[]][0]),[-~[-~{}-~[-~((-~(+!-{})<<-~~~{}))]]]+(-~[]+[[]][0])],[(-~[]+[[]][0])+[-~[-~{}-~[-~((-~(+!-{})<<-~~~{}))]]],(-~[]+[[]][0])+(((+!-{})|-~~~{}-~~~{})+[]),((-~[]<<-~[])+[[]][0])+[(-~[]<<-~[])+5]],[[(-~~~{}+[~~''])/[-~~~{}-~~~{}]]+(-~~~{}-~~~{}-~(((+!-{})|-~~~{}-~~~{}))+[]),[-~[-~{}-~[-~((-~(+!-{})<<-~~~{}))]]]+[(-~~~{}+[~~''])/[-~~~{}-~~~{}]]],[((-~[]<<-~[])+[[]][0])+[(-~[]<<-~[])+(-~[]<<-~[])],((-~[]<<-~[])+[[]][0])+(~~false+[]+[]),(-~[]+[[]][0])+[(-~[]<<-~[])+5],(((+!-{})|-~~~{}-~~~{})+[])+(-~[]+[[]][0]),((-~[]<<-~[])+[[]][0])+(-~~~{}-~~~{}-~(((+!-{})|-~~~{}-~~~{}))+[]),((-~[]<<-~[])+[[]][0])+[-~[-~{}-~[-~((-~(+!-{})<<-~~~{}))]]]],[[(-~~~{}+[~~''])/[-~~~{}-~~~{}]]+[(-~[]<<-~[])+(-~[]<<-~[])],(-~~~{}-~~~{}-~(((+!-{})|-~~~{}-~~~{}))+[])+[(-~[]<<-~[])+5],(-~~~{}-~~~{}-~(((+!-{})|-~~~{}-~~~{}))+[])+[(-~[]<<-~[])+5]],[((-~[]<<-~[])+[[]][0])+(-~~~{}-~~~{}-~(((+!-{})|-~~~{}-~~~{}))+[]),(-~[]+[[]][0])+(-~~~{}-~~~{}-~(((+!-{})|-~~~{}-~~~{}))+[])],[(((+!-{})|-~~~{}-~~~{})+[])+[(-~[]<<-~[])+5],[(-~~~{}+[~~''])/[-~~~{}-~~~{}]]+(-~[]+[[]][0]),(-~~~{}-~~~{}-~(((+!-{})|-~~~{}-~~~{}))+[])+[-~[-~{}-~[-~((-~(+!-{})<<-~~~{}))]]]]];for(var _a8=0;_a8<_41.length;_a8++){_41[_a8]=_27.reverse()[(-~[]+[[]][0])](_41[_a8])};return _41.join('')})()+';Expires=Wed, 17-Jun-20 05:33:29 '\""
      ]
     },
     "execution_count": 17,
     "metadata": {},
     "output_type": "execute_result"
    }
   ],
   "source": [
    "new_js"
   ]
  },
  {
   "cell_type": "markdown",
   "metadata": {},
   "source": [
    "获取jsl_clearance"
   ]
  },
  {
   "cell_type": "code",
   "execution_count": 18,
   "metadata": {},
   "outputs": [
    {
     "data": {
      "text/plain": [
       "'1592368409.535|0|4qZsoiBTn4Qidr8Uokhvqs6CCqg%3D'"
      ]
     },
     "execution_count": 18,
     "metadata": {},
     "output_type": "execute_result"
    }
   ],
   "source": [
    "js = \"\"\"\n",
    "        function getJS() {\n",
    "        %s\n",
    "        return cookie\n",
    "        }\n",
    "    \"\"\" % new_js\n",
    "exec_js = execjs.compile(js)\n",
    "jsl = exec_js.call('getJS')\n",
    "jsl = jsl.split(';')[0]\n",
    "jsl_clearance = jsl.split('=')[1]\n",
    "jsl_clearance"
   ]
  },
  {
   "cell_type": "code",
   "execution_count": 19,
   "metadata": {},
   "outputs": [
    {
     "data": {
      "text/plain": [
       "'085072f139dc4a9a3e6a22c50ee1'"
      ]
     },
     "execution_count": 19,
     "metadata": {},
     "output_type": "execute_result"
    }
   ],
   "source": [
    "# 获取第一个jessionid\n",
    "headers = index_header.copy()\n",
    "headers['Cookie'] = f'__jsluid_h={jsluid}; __jsl_clearance={jsl_clearance};'\n",
    "response2 = requests.get(index_url, headers=headers, proxies=proxy)\n",
    "JSESSIONID1 = re.findall('JSESSIONID=(.*?);', response2.headers['Set-Cookie'])[0]\n",
    "JSESSIONID1"
   ]
  },
  {
   "cell_type": "code",
   "execution_count": 20,
   "metadata": {},
   "outputs": [
    {
     "data": {
      "text/plain": [
       "'085072f139dc4a9a3e6a22c50ee1'"
      ]
     },
     "execution_count": 20,
     "metadata": {},
     "output_type": "execute_result"
    }
   ],
   "source": [
    "# 获取第二个jessionid\n",
    "import time\n",
    "\n",
    "url = 'http://www.gsxt.gov.cn/SearchItemCaptcha?t=' + str(int(time.time()*1000))\n",
    "headers = index_header.copy()\n",
    "headers['Cookie'] = f'__jsluid_h={jsluid}; __jsl_clearance={jsl_clearance};JSESSIONID={JSESSIONID1}'\n",
    "response3 = requests.get(url, headers=headers, proxies=proxy)\n",
    "JSESSIONID2 = re.findall('JSESSIONID=(.*?);', response3.headers['Set-Cookie'])[0]\n",
    "JSESSIONID2"
   ]
  },
  {
   "cell_type": "markdown",
   "metadata": {},
   "source": [
    "测试cookie，如果状态码是200，获取gt和challenge"
   ]
  },
  {
   "cell_type": "code",
   "execution_count": 21,
   "metadata": {},
   "outputs": [
    {
     "data": {
      "text/plain": [
       "200"
      ]
     },
     "execution_count": 21,
     "metadata": {},
     "output_type": "execute_result"
    }
   ],
   "source": [
    "import json\n",
    "\n",
    "headers = index_header.copy()\n",
    "headers['Cookie'] = f'__jsluid_h={jsluid}; __jsl_clearance={jsl_clearance};JSESSIONID={JSESSIONID2}'\n",
    "url = 'http://www.gsxt.gov.cn/SearchItemCaptcha?t=' + str(int(time.time()*1000))\n",
    "response4 = requests.get(url, headers=headers, proxies=proxy)\n",
    "response4.status_code"
   ]
  },
  {
   "cell_type": "code",
   "execution_count": 22,
   "metadata": {},
   "outputs": [],
   "source": [
    "gt_challenge_json = json.loads(response4.text)\n",
    "gt = gt_challenge_json['gt']\n",
    "challenge = gt_challenge_json['challenge']"
   ]
  },
  {
   "cell_type": "code",
   "execution_count": 23,
   "metadata": {},
   "outputs": [
    {
     "data": {
      "text/plain": [
       "'62756445cd524543f5a16418cd920ffd'"
      ]
     },
     "execution_count": 23,
     "metadata": {},
     "output_type": "execute_result"
    }
   ],
   "source": [
    "gt"
   ]
  },
  {
   "cell_type": "code",
   "execution_count": 24,
   "metadata": {},
   "outputs": [
    {
     "data": {
      "text/plain": [
       "'38c5c54defb60794477484c6bdba6840'"
      ]
     },
     "execution_count": 24,
     "metadata": {},
     "output_type": "execute_result"
    }
   ],
   "source": [
    "challenge"
   ]
  },
  {
   "cell_type": "markdown",
   "metadata": {},
   "source": [
    "## 下面开始搜索企业信息"
   ]
  },
  {
   "cell_type": "markdown",
   "metadata": {},
   "source": [
    "### 如果您看到这里，请给我一个star，谢谢，如有遗漏，请留言指正，感激！"
   ]
  },
  {
   "cell_type": "markdown",
   "metadata": {},
   "source": [
    "这里先走一遍采集流程，本地打码服务的实现稍后整理，要先整理完模型训练部分才能打码\n",
    "服务实现流程：\n",
    "1. 拿到gt和challenge获取验证码，验证码有两种\n",
    "    - 滑动3.0\n",
    "    - 文字点选，这部分的训练模型已经开源了，移步首页\n",
    "2. 破解验证码，获取validate"
   ]
  },
  {
   "cell_type": "code",
   "execution_count": 18,
   "metadata": {},
   "outputs": [],
   "source": [
    "# 本地打码服务器，所有验证码类型在这里统一处理，返回validate即可\n",
    "get_valid_server = 'http://49.235.179.162:8081'"
   ]
  },
  {
   "cell_type": "code",
   "execution_count": 19,
   "metadata": {},
   "outputs": [
    {
     "data": {
      "text/plain": [
       "<Response [200]>"
      ]
     },
     "execution_count": 19,
     "metadata": {},
     "output_type": "execute_result"
    }
   ],
   "source": [
    "\n",
    "url = f'{get_valid_server}/geetest?gt={gt}&challenge={challenge}'\n",
    "resp = requests.get(url)\n",
    "resp"
   ]
  },
  {
   "cell_type": "code",
   "execution_count": 20,
   "metadata": {},
   "outputs": [
    {
     "data": {
      "text/plain": [
       "{'data': {'challenge': 'be4b32a94c92ba940e707697d8c95faa',\n",
       "  'result': 'success',\n",
       "  'validate': 'cb378a47d70204ba64104410523fe33b'},\n",
       " 'status': 'success'}"
      ]
     },
     "execution_count": 20,
     "metadata": {},
     "output_type": "execute_result"
    }
   ],
   "source": [
    "val_resu = json.loads(resp.text)\n",
    "\n",
    "val_resu"
   ]
  },
  {
   "cell_type": "markdown",
   "metadata": {},
   "source": [
    "成功获取validate，开始进行搜索"
   ]
  },
  {
   "cell_type": "code",
   "execution_count": 21,
   "metadata": {},
   "outputs": [],
   "source": [
    "from lxml.etree import _Element\n",
    "from lxml import etree\n",
    "\n",
    "def parse_list(content):\n",
    "    def try_catch(data, patten):\n",
    "        if isinstance(data, _Element):\n",
    "            try:\n",
    "                target = re.sub('\\s', '', data.xpath(patten)[0].strip())\n",
    "            except:\n",
    "                target = None\n",
    "            return target\n",
    "        return data\n",
    "    a_list = []\n",
    "    content_list = content\n",
    "    html = etree.HTML(content_list)\n",
    "    list_len = int(html.xpath('//span[@class=\"search_result_span1\"]/text()')[0])\n",
    "    if list_len == 0:\n",
    "        return 'None'\n",
    "    else:\n",
    "        targit_len = 1\n",
    "    for i in range(1, targit_len + 1):\n",
    "        try:\n",
    "            url = html.xpath('//div[@class=\"main-layout fw f14\"]/div[2]/a[' + str(i) + ']/@href')[0]\n",
    "            href = 'http://www.gsxt.gov.cn{}'.format(url)\n",
    "        except:\n",
    "            href = None\n",
    "        dic = {\n",
    "            'href': href\n",
    "        }\n",
    "        a_list.append(dic)\n",
    "    return a_list"
   ]
  },
  {
   "cell_type": "code",
   "execution_count": 22,
   "metadata": {},
   "outputs": [],
   "source": [
    "def list_page(val_resu, jsluid, jsl_clearance, JSESSIONID, search_word):\n",
    "    time.sleep(1)\n",
    "    validate = val_resu['data']['validate']\n",
    "    chall = val_resu['data']['challenge']\n",
    "    data = {\n",
    "        'tab': 'ent_tab',\n",
    "        'province': '',\n",
    "        'geetest_challenge': chall,\n",
    "        'geetest_validate': validate,\n",
    "        'geetest_seccode': '{}|jordan'.format(validate),\n",
    "        'token': '57571798',\n",
    "        'searchword': f'{search_word}',\n",
    "    }\n",
    "    time.sleep(5)\n",
    "    headers =index_header.copy()\n",
    "    headers['Cookie'] = f'__jsluid_h={jsluid}; __jsl_clearance={jsl_clearance};JSESSIONID={JSESSIONID}'\n",
    "    post_url = 'http://www.gsxt.gov.cn/corp-query-search-1.html'\n",
    "    content = requests.post(url=post_url, data=data, headers=headers, verify=False, timeout=(60, 60), proxies=proxy)\n",
    "    if content.status_code == 200:\n",
    "        if '您的IP地址' in content.text:\n",
    "            print('请更换代理')\n",
    "        else:\n",
    "            return content.text\n",
    "    else:\n",
    "        print('cookies失效')"
   ]
  },
  {
   "cell_type": "markdown",
   "metadata": {},
   "source": [
    "配置要搜索的关键词"
   ]
  },
  {
   "cell_type": "code",
   "execution_count": 23,
   "metadata": {},
   "outputs": [],
   "source": [
    "search_word = \"百度\""
   ]
  },
  {
   "cell_type": "code",
   "execution_count": 24,
   "metadata": {},
   "outputs": [
    {
     "name": "stdout",
     "output_type": "stream",
     "text": [
      "请更换代理\n"
     ]
    }
   ],
   "source": [
    "if val_resu['data']['result'] == 'fail':\n",
    "    print('get valid error')\n",
    "else:\n",
    "    content_text = list_page(val_resu, jsluid, jsl_clearance, JSESSIONID2, search_word)"
   ]
  },
  {
   "cell_type": "code",
   "execution_count": 25,
   "metadata": {},
   "outputs": [
    {
     "ename": "ValueError",
     "evalue": "can only parse strings",
     "output_type": "error",
     "traceback": [
      "\u001b[0;31m---------------------------------------------------------------------------\u001b[0m",
      "\u001b[0;31mValueError\u001b[0m                                Traceback (most recent call last)",
      "\u001b[0;32m<ipython-input-25-e69203594c6b>\u001b[0m in \u001b[0;36m<module>\u001b[0;34m\u001b[0m\n\u001b[0;32m----> 1\u001b[0;31m \u001b[0mhref\u001b[0m \u001b[0;34m=\u001b[0m \u001b[0mparse_list\u001b[0m\u001b[0;34m(\u001b[0m\u001b[0mcontent_text\u001b[0m\u001b[0;34m)\u001b[0m\u001b[0;34m\u001b[0m\u001b[0;34m\u001b[0m\u001b[0m\n\u001b[0m",
      "\u001b[0;32m<ipython-input-21-08f1efbfbfa2>\u001b[0m in \u001b[0;36mparse_list\u001b[0;34m(content)\u001b[0m\n\u001b[1;32m     13\u001b[0m     \u001b[0ma_list\u001b[0m \u001b[0;34m=\u001b[0m \u001b[0;34m[\u001b[0m\u001b[0;34m]\u001b[0m\u001b[0;34m\u001b[0m\u001b[0;34m\u001b[0m\u001b[0m\n\u001b[1;32m     14\u001b[0m     \u001b[0mcontent_list\u001b[0m \u001b[0;34m=\u001b[0m \u001b[0mcontent\u001b[0m\u001b[0;34m\u001b[0m\u001b[0;34m\u001b[0m\u001b[0m\n\u001b[0;32m---> 15\u001b[0;31m     \u001b[0mhtml\u001b[0m \u001b[0;34m=\u001b[0m \u001b[0metree\u001b[0m\u001b[0;34m.\u001b[0m\u001b[0mHTML\u001b[0m\u001b[0;34m(\u001b[0m\u001b[0mcontent_list\u001b[0m\u001b[0;34m)\u001b[0m\u001b[0;34m\u001b[0m\u001b[0;34m\u001b[0m\u001b[0m\n\u001b[0m\u001b[1;32m     16\u001b[0m     \u001b[0mlist_len\u001b[0m \u001b[0;34m=\u001b[0m \u001b[0mint\u001b[0m\u001b[0;34m(\u001b[0m\u001b[0mhtml\u001b[0m\u001b[0;34m.\u001b[0m\u001b[0mxpath\u001b[0m\u001b[0;34m(\u001b[0m\u001b[0;34m'//span[@class=\"search_result_span1\"]/text()'\u001b[0m\u001b[0;34m)\u001b[0m\u001b[0;34m[\u001b[0m\u001b[0;36m0\u001b[0m\u001b[0;34m]\u001b[0m\u001b[0;34m)\u001b[0m\u001b[0;34m\u001b[0m\u001b[0;34m\u001b[0m\u001b[0m\n\u001b[1;32m     17\u001b[0m     \u001b[0;32mif\u001b[0m \u001b[0mlist_len\u001b[0m \u001b[0;34m==\u001b[0m \u001b[0;36m0\u001b[0m\u001b[0;34m:\u001b[0m\u001b[0;34m\u001b[0m\u001b[0;34m\u001b[0m\u001b[0m\n",
      "\u001b[0;32msrc/lxml/etree.pyx\u001b[0m in \u001b[0;36mlxml.etree.HTML\u001b[0;34m()\u001b[0m\n",
      "\u001b[0;32msrc/lxml/parser.pxi\u001b[0m in \u001b[0;36mlxml.etree._parseMemoryDocument\u001b[0;34m()\u001b[0m\n",
      "\u001b[0;31mValueError\u001b[0m: can only parse strings"
     ]
    }
   ],
   "source": [
    "href = parse_list(content_text)"
   ]
  },
  {
   "cell_type": "code",
   "execution_count": null,
   "metadata": {},
   "outputs": [],
   "source": [
    "href"
   ]
  },
  {
   "cell_type": "code",
   "execution_count": null,
   "metadata": {},
   "outputs": [],
   "source": [
    "headers =index_header.copy()\n",
    "headers['Cookie'] = f'__jsluid_h={jsluid}; __jsl_clearance={jsl_clearance};JSESSIONID={JSESSIONID2}'\n",
    "detail = requests.get(url=href[0]['href'], headers = headers, proxies = proxy)"
   ]
  },
  {
   "cell_type": "markdown",
   "metadata": {},
   "source": [
    "输出结果正确"
   ]
  },
  {
   "cell_type": "code",
   "execution_count": null,
   "metadata": {},
   "outputs": [],
   "source": [
    "etree.HTML(detail.text).xpath(\"//h1\")[0].text.strip()"
   ]
  },
  {
   "cell_type": "markdown",
   "metadata": {},
   "source": [
    "### 如果您看到这里，请给我一个star，谢谢，如有遗漏，请留言指正，感激！"
   ]
  }
 ],
 "metadata": {
  "kernelspec": {
   "display_name": "blog",
   "language": "python",
   "name": "blog"
  },
  "language_info": {
   "codemirror_mode": {
    "name": "ipython",
    "version": 3
   },
   "file_extension": ".py",
   "mimetype": "text/x-python",
   "name": "python",
   "nbconvert_exporter": "python",
   "pygments_lexer": "ipython3",
   "version": "3.7.5"
  }
 },
 "nbformat": 4,
 "nbformat_minor": 2
}
